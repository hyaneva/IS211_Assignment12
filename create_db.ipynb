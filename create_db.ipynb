{
 "cells": [
  {
   "cell_type": "code",
   "execution_count": 15,
   "id": "fc01def3",
   "metadata": {},
   "outputs": [
    {
     "name": "stdout",
     "output_type": "stream",
     "text": [
      "hw13.db created successfully!\n"
     ]
    }
   ],
   "source": [
    "# create_db.py\n",
    "import sqlite3\n",
    "\n",
    "def create_db():\n",
    "    # This will create hw13.db (or overwrite it)\n",
    "    conn = sqlite3.connect('hw13.db')\n",
    "    # Read your schema + initial data from schema.sql\n",
    "    with open('schema.sql', 'r') as f:\n",
    "        sql = f.read()\n",
    "    conn.executescript(sql)\n",
    "    conn.close()\n",
    "    print(\"hw13.db created successfully!\")\n",
    "\n",
    "if __name__ == '__main__':\n",
    "    create_db()"
   ]
  }
 ],
 "metadata": {
  "kernelspec": {
   "display_name": "Python 3 (ipykernel)",
   "language": "python",
   "name": "python3"
  },
  "language_info": {
   "codemirror_mode": {
    "name": "ipython",
    "version": 3
   },
   "file_extension": ".py",
   "mimetype": "text/x-python",
   "name": "python",
   "nbconvert_exporter": "python",
   "pygments_lexer": "ipython3",
   "version": "3.7.0"
  }
 },
 "nbformat": 4,
 "nbformat_minor": 5
}
